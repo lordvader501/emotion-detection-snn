{
 "cells": [
  {
   "cell_type": "code",
   "execution_count": 1,
   "metadata": {},
   "outputs": [
    {
     "name": "stderr",
     "output_type": "stream",
     "text": [
      "C:\\Users\\SHAURYAM DUBEY\\AppData\\Local\\Temp\\ipykernel_39240\\1178550895.py:3: DeprecationWarning: The module snntorch.backprop will be deprecated in  a future release. Writing out your own training loop will lead to substantially faster performance.\n",
      "  from snntorch import backprop\n"
     ]
    }
   ],
   "source": [
    "import snntorch as snn\n",
    "from snntorch import surrogate\n",
    "from snntorch import backprop\n",
    "from snntorch import functional as SF\n",
    "from snntorch import utils\n",
    "from snntorch import spikeplot as splt\n",
    "\n",
    "import torch\n",
    "import torch.nn as nn\n",
    "from torch.utils.data import DataLoader\n",
    "from torchvision import datasets, transforms\n",
    "import torch.nn.functional as F\n",
    "\n",
    "import matplotlib.pyplot as plt\n",
    "import numpy as np\n",
    "import itertools\n",
    "from spikingjelly.activation_based import neuron, functional, layer, surrogate"
   ]
  },
  {
   "cell_type": "code",
   "execution_count": 3,
   "metadata": {},
   "outputs": [],
   "source": [
    "# Define hyperparameters\n",
    "batch_size = 64\n",
    "\n",
    "# Load FER2013 dataset\n",
    "transform = transforms.Compose([\n",
    "    # transforms.Grayscale(),\n",
    "    transforms.Grayscale(num_output_channels=1),\n",
    "    transforms.Resize((48, 48)),\n",
    "    transforms.RandomHorizontalFlip(),\n",
    "    transforms.RandomRotation(10),\n",
    "    # transforms.ColorJitter(brightness=0.2, contrast=0.2),  # Change brightness and contrast\n",
    "    # transforms.RandomAffine(degrees=10, translate=(0.1, 0.1)),  # Add small shifts\n",
    "    transforms.ToTensor(),\n",
    "    transforms.Normalize(mean=[0.5], std=[0.5])\n",
    "])\n",
    "\n",
    "# Load the dataset\n",
    "train_dataset = datasets.ImageFolder(\n",
    "    root='./dataset/train', transform=transform)\n",
    "test_dataset = datasets.ImageFolder(\n",
    "    root='./dataset/test', transform=transform)\n",
    "train_loader = DataLoader(\n",
    "    train_dataset, batch_size=batch_size, shuffle=True, drop_last=True)\n",
    "test_loader = DataLoader(\n",
    "    test_dataset, batch_size=batch_size, shuffle=False, drop_last=True)\n",
    "\n",
    "# Define device\n",
    "device = torch.device(\"cuda\" if torch.cuda.is_available() else \"cpu\")"
   ]
  },
  {
   "cell_type": "code",
   "execution_count": 4,
   "metadata": {},
   "outputs": [],
   "source": [
    "class SimpleCNN(nn.Module):\n",
    "    def __init__(self):\n",
    "        super(SimpleCNN, self).__init__()\n",
    "        \n",
    "        self.conv_layers = nn.Sequential(\n",
    "            nn.Conv2d(1, 32, kernel_size=3, stride=1, padding=1),\n",
    "            nn.ReLU(),\n",
    "            nn.MaxPool2d(kernel_size=2, stride=2),\n",
    "            nn.Conv2d(32, 64, kernel_size=3, stride=1, padding=1),\n",
    "            nn.ReLU(),\n",
    "            nn.MaxPool2d(kernel_size=2, stride=2),\n",
    "        )\n",
    "        self.fc_layers = nn.Sequential(\n",
    "            nn.Linear(64 * 12 * 12, 128),\n",
    "            nn.ReLU(),\n",
    "            nn.Dropout(0.5),\n",
    "            nn.Linear(128, 7)  # FER-2013 has 7 emotion classes\n",
    "        )\n",
    "\n",
    "    def forward(self, x):\n",
    "        x = self.conv_layers(x)\n",
    "        x = x.view(x.size(0), -1)\n",
    "        x = self.fc_layers(x)\n",
    "        return x"
   ]
  },
  {
   "cell_type": "code",
   "execution_count": 6,
   "metadata": {},
   "outputs": [
    {
     "name": "stderr",
     "output_type": "stream",
     "text": [
      "C:\\Users\\SHAURYAM DUBEY\\AppData\\Local\\Temp\\ipykernel_39240\\3069337107.py:2: FutureWarning: You are using `torch.load` with `weights_only=False` (the current default value), which uses the default pickle module implicitly. It is possible to construct malicious pickle data which will execute arbitrary code during unpickling (See https://github.com/pytorch/pytorch/blob/main/SECURITY.md#untrusted-models for more details). In a future release, the default value for `weights_only` will be flipped to `True`. This limits the functions that could be executed during unpickling. Arbitrary objects will no longer be allowed to be loaded via this mode unless they are explicitly allowlisted by the user via `torch.serialization.add_safe_globals`. We recommend you start setting `weights_only=True` for any use case where you don't have full control of the loaded file. Please open an issue on GitHub for any issues related to this experimental feature.\n",
      "  model.load_state_dict(torch.load('best_model.pth', map_location=device))\n"
     ]
    },
    {
     "data": {
      "text/plain": [
       "<All keys matched successfully>"
      ]
     },
     "execution_count": 6,
     "metadata": {},
     "output_type": "execute_result"
    }
   ],
   "source": [
    "model = SimpleCNN().to(device)\n",
    "model.load_state_dict(torch.load('best_model.pth', map_location=device))"
   ]
  },
  {
   "cell_type": "code",
   "execution_count": null,
   "metadata": {},
   "outputs": [
    {
     "name": "stderr",
     "output_type": "stream",
     "text": [
      "100%|██████████| 448/448 [00:14<00:00, 30.72it/s]\n"
     ]
    }
   ],
   "source": [
    "from spikingjelly.activation_based import ann2snn\n",
    "\n",
    "model_conv = ann2snn.Converter(mode='max', dataloader=train_loader,device=device)\n",
    "\n",
    "snn_model = model_conv(model).to(device)\n"
   ]
  },
  {
   "cell_type": "code",
   "execution_count": null,
   "metadata": {},
   "outputs": [
    {
     "name": "stdout",
     "output_type": "stream",
     "text": [
      "graph():\n",
      "    %x : [num_users=1] = placeholder[target=x]\n",
      "    %conv_layers_0 : [num_users=1] = call_module[target=conv_layers.0](args = (%x,), kwargs = {})\n",
      "    %snn_tailor_0_1 : [num_users=1] = call_module[target=snn tailor.0.0](args = (%conv_layers_0,), kwargs = {})\n",
      "    %snn_tailor_0_2 : [num_users=1] = call_module[target=snn tailor.0.1](args = (%snn_tailor_0_1,), kwargs = {})\n",
      "    %snn_tailor_0_3 : [num_users=1] = call_module[target=snn tailor.0.2](args = (%snn_tailor_0_2,), kwargs = {})\n",
      "    %conv_layers_2 : [num_users=1] = call_module[target=conv_layers.2](args = (%snn_tailor_0_3,), kwargs = {})\n",
      "    %conv_layers_3 : [num_users=1] = call_module[target=conv_layers.3](args = (%conv_layers_2,), kwargs = {})\n",
      "    %snn_tailor_1_1 : [num_users=1] = call_module[target=snn tailor.1.0](args = (%conv_layers_3,), kwargs = {})\n",
      "    %snn_tailor_1_2 : [num_users=1] = call_module[target=snn tailor.1.1](args = (%snn_tailor_1_1,), kwargs = {})\n",
      "    %snn_tailor_1_3 : [num_users=1] = call_module[target=snn tailor.1.2](args = (%snn_tailor_1_2,), kwargs = {})\n",
      "    %conv_layers_5 : [num_users=2] = call_module[target=conv_layers.5](args = (%snn_tailor_1_3,), kwargs = {})\n",
      "    %size : [num_users=1] = call_method[target=size](args = (%conv_layers_5, 0), kwargs = {})\n",
      "    %view : [num_users=1] = call_method[target=view](args = (%conv_layers_5, %size, -1), kwargs = {})\n",
      "    %fc_layers_0 : [num_users=1] = call_module[target=fc_layers.0](args = (%view,), kwargs = {})\n",
      "    %snn_tailor_2_1 : [num_users=1] = call_module[target=snn tailor.2.0](args = (%fc_layers_0,), kwargs = {})\n",
      "    %snn_tailor_2_2 : [num_users=1] = call_module[target=snn tailor.2.1](args = (%snn_tailor_2_1,), kwargs = {})\n",
      "    %snn_tailor_2_3 : [num_users=1] = call_module[target=snn tailor.2.2](args = (%snn_tailor_2_2,), kwargs = {})\n",
      "    %fc_layers_2 : [num_users=1] = call_module[target=fc_layers.2](args = (%snn_tailor_2_3,), kwargs = {})\n",
      "    %fc_layers_3 : [num_users=1] = call_module[target=fc_layers.3](args = (%fc_layers_2,), kwargs = {})\n",
      "    return fc_layers_3\n"
     ]
    }
   ],
   "source": [
    "print"
   ]
  },
  {
   "cell_type": "code",
   "execution_count": 14,
   "metadata": {},
   "outputs": [
    {
     "name": "stdout",
     "output_type": "stream",
     "text": [
      "Test Accuracy: 20.05%\n"
     ]
    }
   ],
   "source": [
    "def evaluate():\n",
    "    correct = 0\n",
    "    total = 0\n",
    "    snn_model.eval()\n",
    "\n",
    "    with torch.no_grad():\n",
    "        for images, labels in test_loader:\n",
    "            images, labels = images.to(device), labels.to(device)\n",
    "            # images = spikegen.rate(images, num_steps=10)\n",
    "            outputs = snn_model(images)\n",
    "            # outputs = net(images)\n",
    "            _, predicted = torch.max(outputs, 1)\n",
    "            total += labels.size(0)\n",
    "            correct += (predicted == labels).sum().item()\n",
    "\n",
    "    print(f'Test Accuracy: {100 * correct / total:.2f}%')\n",
    "\n",
    "\n",
    "evaluate()"
   ]
  }
 ],
 "metadata": {
  "kernelspec": {
   "display_name": "venv",
   "language": "python",
   "name": "python3"
  },
  "language_info": {
   "codemirror_mode": {
    "name": "ipython",
    "version": 3
   },
   "file_extension": ".py",
   "mimetype": "text/x-python",
   "name": "python",
   "nbconvert_exporter": "python",
   "pygments_lexer": "ipython3",
   "version": "3.10.5"
  }
 },
 "nbformat": 4,
 "nbformat_minor": 2
}
